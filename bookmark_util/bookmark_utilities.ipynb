{
 "cells": [
  {
   "attachments": {},
   "cell_type": "markdown",
   "metadata": {},
   "source": [
    "# Bookmark Utilities\n",
    "[*v0.1*]\n",
    "\n",
    "Prototyping notebook for bookmark scraping utilities."
   ]
  },
  {
   "attachments": {},
   "cell_type": "markdown",
   "metadata": {},
   "source": [
    "# Setup\n",
    "\n",
    "Cells in this section handle notebook setup, like importing packages and functions/vars from scripts."
   ]
  },
  {
   "attachments": {},
   "cell_type": "markdown",
   "metadata": {},
   "source": [
    "## Imports\n",
    "\n",
    "Import `stdlib` packages (i.e. `pathlib.Path`) and package dependencies."
   ]
  },
  {
   "attachments": {},
   "cell_type": "markdown",
   "metadata": {},
   "source": [
    "### stdlib"
   ]
  },
  {
   "cell_type": "code",
   "execution_count": null,
   "metadata": {},
   "outputs": [],
   "source": [
    "from pathlib import Path\n",
    "import json\n",
    "from typing import Any, Optional, Union\n",
    "from dataclasses import dataclass, field\n",
    "import random"
   ]
  },
  {
   "cell_type": "code",
   "execution_count": null,
   "metadata": {},
   "outputs": [],
   "source": [
    "from core.config import app_settings, logging_settings\n",
    "from utils.logger import get_logger\n",
    "\n",
    "\n",
    "from core.db import Base, get_engine, get_session, create_base_metadata\n",
    "from utils.validators import valid_dir\n",
    "\n",
    "from main import get_files, read_bookmarks"
   ]
  },
  {
   "attachments": {},
   "cell_type": "markdown",
   "metadata": {},
   "source": [
    "### Dependencies\n",
    "\n",
    "Packages installed with `pip` (or some equivalent tool)"
   ]
  },
  {
   "cell_type": "code",
   "execution_count": null,
   "metadata": {},
   "outputs": [],
   "source": [
    "import bs4\n",
    "from bs4 import BeautifulSoup, Tag, ResultSet\n",
    "\n",
    "from pydantic import BaseModel, validator, ValidationError, Field"
   ]
  },
  {
   "attachments": {},
   "cell_type": "markdown",
   "metadata": {},
   "source": [
    "## Global Vars\n",
    "\n",
    "Variables for use throughout the notebook"
   ]
  },
  {
   "cell_type": "code",
   "execution_count": null,
   "metadata": {},
   "outputs": [],
   "source": [
    "nb_log: bool = True\n",
    "nb_verbose: bool = False"
   ]
  },
  {
   "cell_type": "code",
   "execution_count": null,
   "metadata": {},
   "outputs": [],
   "source": [
    "bookmarks_dir: str = \"bookmarks\"\n",
    "bookmarks_file: str = \"bookmarks_6_13_23.html\"\n",
    "bookmarks_file_path: str = f\"{bookmarks_dir}/{bookmarks_file}\""
   ]
  },
  {
   "attachments": {},
   "cell_type": "markdown",
   "metadata": {},
   "source": [
    "## Functions\n",
    "\n",
    "Notebook-level functions. These differ from functions imported from scripts in that they are either prototypes, or functions meant only for the notebook."
   ]
  },
  {
   "attachments": {},
   "cell_type": "markdown",
   "metadata": {},
   "source": [
    "### Notebook Functions"
   ]
  },
  {
   "cell_type": "code",
   "execution_count": null,
   "metadata": {},
   "outputs": [],
   "source": []
  },
  {
   "attachments": {},
   "cell_type": "markdown",
   "metadata": {},
   "source": [
    "### Prototype"
   ]
  },
  {
   "cell_type": "code",
   "execution_count": null,
   "metadata": {},
   "outputs": [],
   "source": []
  },
  {
   "attachments": {},
   "cell_type": "markdown",
   "metadata": {},
   "source": [
    "## Classes\n",
    "\n",
    "Notebook-level classes. These differ from classes/models imported from scripts in that they are either prototypes, or functions meant only for the notebook."
   ]
  },
  {
   "cell_type": "code",
   "execution_count": null,
   "metadata": {},
   "outputs": [],
   "source": [
    "## Choose between using Dataclasses or Pydantic models for script\n",
    "#  One of the vars must be True. Both vars cannot be True simultaneously.\n",
    "\n",
    "USE_DATACLASS: bool = False\n",
    "USE_PYDANTIC: bool = True"
   ]
  },
  {
   "cell_type": "code",
   "execution_count": null,
   "metadata": {},
   "outputs": [],
   "source": [
    "if not USE_DATACLASS and not USE_PYDANTIC:\n",
    "    raise ValueError(f\"USE_DATACLASS or USE_PYDANTIC must be 'True'.\")\n",
    "\n",
    "if USE_DATACLASS and USE_PYDANTIC:\n",
    "    raise ValueError(\n",
    "        f\"USE_DATACLASS and USE_PYDANTIC cannot both be 'True' you must set only 1 to 'True'.\"\n",
    "    )"
   ]
  },
  {
   "cell_type": "code",
   "execution_count": null,
   "metadata": {},
   "outputs": [],
   "source": [
    "if USE_DATACLASS:\n",
    "\n",
    "    @dataclass\n",
    "    class FileObj:\n",
    "        path_obj: Path = field(default=None)\n",
    "        absolute_path: str = field(default=None)\n",
    "        type: str = field(default=None)\n",
    "        name: str = field(default=None)\n",
    "        # resolve_path: str = field(default=None)\n",
    "        # posix_path: str = field(default=None)\n",
    "        # uri: str = field(default=None)\n",
    "        is_symlink: bool = field(default=False)\n",
    "        owner: str = field(default=None)\n",
    "        parents: list[str] = field(default=None)\n",
    "        parent: str = field(default=None)\n",
    "\n",
    "        @property\n",
    "        def path(self) -> str:\n",
    "            _path: str = str(self.path_obj)\n",
    "\n",
    "            return _path\n",
    "\n",
    "        # @property\n",
    "        # def ext(self) -> Union[str, None]:\n",
    "        #     if not isinstance(self.)\n",
    "\n",
    "        @property\n",
    "        def allowed_types(self) -> list[str]:\n",
    "            allowed_types = [\"file\", \"dir\"]\n",
    "\n",
    "            return allowed_types\n",
    "\n",
    "        def __post_init__(self):\n",
    "            if not self.type in self.allowed_types:\n",
    "                raise ValueError(\n",
    "                    f\"File object 'type' must be one of {self.allowed_types}\"\n",
    "                )"
   ]
  },
  {
   "cell_type": "code",
   "execution_count": null,
   "metadata": {},
   "outputs": [],
   "source": [
    "if USE_PYDANTIC:\n",
    "\n",
    "    class FileObj(BaseModel):\n",
    "        path_obj: Path = Field(default=None)\n",
    "        absolute_path: str = Field(default=None)\n",
    "        type: str = Field(default=None)\n",
    "        name: str = Field(default=None)\n",
    "        # resolve_path: str = field(default=None)\n",
    "        # posix_path: str = field(default=None)\n",
    "        # uri: str = field(default=None)\n",
    "        is_symlink: bool = Field(default=False)\n",
    "        owner: str = Field(default=None)\n",
    "        parents: list[str] = Field(default=None)\n",
    "        parent: str = Field(default=None)\n",
    "\n",
    "        @property\n",
    "        def path(self) -> str:\n",
    "            _path: str = str(self.path_obj)\n",
    "\n",
    "            return _path\n",
    "\n",
    "        # @property\n",
    "        # def ext(self) -> Union[str, None]:\n",
    "        #     if not isinstance(self.)\n",
    "\n",
    "        @property\n",
    "        def allowed_types(self) -> list[str]:\n",
    "            allowed_types = [\"file\", \"dir\"]\n",
    "\n",
    "            return allowed_types\n",
    "\n",
    "        @validator(\"type\")\n",
    "        def valid_type(cls, v) -> str:\n",
    "            if not v in cls.allowed_types:\n",
    "                raise ValidationError(f\"'type' must be one of {cls.allowed_types}\")\n",
    "\n",
    "            return v"
   ]
  },
  {
   "cell_type": "code",
   "execution_count": null,
   "metadata": {},
   "outputs": [],
   "source": [
    "if USE_DATACLASS:\n",
    "\n",
    "    @dataclass\n",
    "    class BookmarkFolder:\n",
    "        name: str = field(default=None)\n",
    "        add_date: str = field(default=None)\n",
    "        last_modified: str = field(default=None)\n",
    "        ## Original bs4.Tag object\n",
    "        bs4_tag: Tag = field(default=None)"
   ]
  },
  {
   "cell_type": "code",
   "execution_count": null,
   "metadata": {},
   "outputs": [],
   "source": [
    "if USE_PYDANTIC:\n",
    "\n",
    "    class BookmarkFolder(BaseModel):\n",
    "        name: str = Field(default=None)\n",
    "        add_date: str = Field(default=None)\n",
    "        last_modified: str = Field(default=None)\n",
    "        ## Original bs4.Tag object\n",
    "        bs4_tag: Tag = Field(default=None)\n",
    "\n",
    "        class Config:\n",
    "            arbitrary_types_allowed = True"
   ]
  },
  {
   "cell_type": "code",
   "execution_count": null,
   "metadata": {},
   "outputs": [],
   "source": [
    "if USE_DATACLASS:\n",
    "\n",
    "    @dataclass\n",
    "    class Bookmark:\n",
    "        href: str = field(default=None)\n",
    "        add_date: str = field(default=None)\n",
    "        icon: str = field(default=None)\n",
    "        description: str = field(default=None)\n",
    "        url: str = field(default=None)\n",
    "        name: str = field(default=None)\n",
    "        folder: str = field(default=None)\n",
    "        bs4_tag: Tag = field(default=None)"
   ]
  },
  {
   "cell_type": "code",
   "execution_count": null,
   "metadata": {},
   "outputs": [],
   "source": [
    "if USE_PYDANTIC:\n",
    "\n",
    "    class Bookmark(BaseModel):\n",
    "        href: str = Field(default=None)\n",
    "        add_date: str = Field(default=None)\n",
    "        icon: str = Field(default=None)\n",
    "        description: str = Field(default=None)\n",
    "        url: str = Field(default=None)\n",
    "        name: str = Field(default=None)\n",
    "        folder: str = Field(default=None)\n",
    "        bs4_tag: Tag = Field(default=None)\n",
    "\n",
    "        class Config:\n",
    "            arbitrary_types_allowed = True"
   ]
  },
  {
   "attachments": {},
   "cell_type": "markdown",
   "metadata": {},
   "source": [
    "# Operations\n",
    "\n",
    "Functions & data operations."
   ]
  },
  {
   "attachments": {},
   "cell_type": "markdown",
   "metadata": {},
   "source": [
    "### Create SQLAlchemy table metadata"
   ]
  },
  {
   "cell_type": "code",
   "execution_count": null,
   "metadata": {},
   "outputs": [],
   "source": [
    "engine = get_engine(connection=\"db/nb_demo.sqlite\", echo=True)\n",
    "create_base_metadata(base_obj=Base, engine=engine)\n",
    "SessionLocal = get_session(engine=engine)"
   ]
  },
  {
   "cell_type": "code",
   "execution_count": null,
   "metadata": {},
   "outputs": [],
   "source": [
    "display(f\"Getting files from {bookmarks_dir}\")\n",
    "\n",
    "bookmark_files = get_files(bookmarks_dir)\n",
    "\n",
    "display(f\"Bookmark files: {bookmark_files}\")"
   ]
  },
  {
   "cell_type": "code",
   "execution_count": null,
   "metadata": {},
   "outputs": [],
   "source": [
    "## Grab a sample bookmark from the list of files\n",
    "bookmark_files_len = len(bookmark_files[\"files\"])\n",
    "sel: int = random.randint(0, bookmark_files_len - 1)\n",
    "\n",
    "display(f\"Pulling sample from bookmark files list. Random index: [{sel}]\")\n",
    "\n",
    "_sample: Path = bookmark_files[\"files\"][sel]\n",
    "\n",
    "display(f\"Sample: {_sample}\")"
   ]
  },
  {
   "cell_type": "code",
   "execution_count": null,
   "metadata": {},
   "outputs": [],
   "source": [
    "## Read contents of sample bookmark\n",
    "html_contents = read_bookmarks(file=_sample)\n",
    "\n",
    "if nb_verbose:\n",
    "    display(f\"Bookmark file contents:\")\n",
    "    display(html_contents)"
   ]
  },
  {
   "cell_type": "code",
   "execution_count": null,
   "metadata": {},
   "outputs": [],
   "source": [
    "## Create BeautifulSoup from html_contents\n",
    "soup = BeautifulSoup(html_contents, \"lxml\")\n",
    "\n",
    "## Get all <dt> tags\n",
    "_dt: ResultSet = soup.find_all(\"dt\")\n",
    "\n",
    "if nb_verbose:\n",
    "    display(f\"All <dt> tags:\")\n",
    "    display(_dt)"
   ]
  },
  {
   "cell_type": "code",
   "execution_count": null,
   "metadata": {},
   "outputs": [],
   "source": [
    "## Initialize empty lists to store bookmark folders and links\n",
    "html_folders: list[BookmarkFolder] = []\n",
    "html_bookmarks: list[Bookmark] = []"
   ]
  },
  {
   "cell_type": "code",
   "execution_count": null,
   "metadata": {},
   "outputs": [],
   "source": [
    "## Loop over results from <dt> tag search\n",
    "for line in _dt:\n",
    "    # if nb_log:\n",
    "    #     display(f\"line: {line}\")\n",
    "\n",
    "    item: Tag = line.find_next()\n",
    "    # if nb_verbose:\n",
    "    #     display(f\"Item: {item}\")\n",
    "\n",
    "    if item.name == \"h3\":\n",
    "        # for k in item.attrs.keys():\n",
    "        #     display(f\"Attribute key [{k}] ({type(item.attrs[k])}): {item.attrs[k]}\")\n",
    "\n",
    "        folder_name = item.text\n",
    "\n",
    "        folder_dict = {\n",
    "            \"name\": folder_name,\n",
    "            \"add_date\": item.attrs[\"add_date\"],\n",
    "            \"last_modified\": item.attrs[\"last_modified\"],\n",
    "            \"bs4_tag\": item,\n",
    "        }\n",
    "\n",
    "        if USE_PYDANTIC:\n",
    "            _folder = BookmarkFolder.parse_obj(folder_dict)\n",
    "\n",
    "        if USE_DATACLASS:\n",
    "            _folder = BookmarkFolder(**folder_dict)\n",
    "\n",
    "        html_folders.append(_folder)\n",
    "\n",
    "        continue\n",
    "\n",
    "    else:\n",
    "        # log.debug(\n",
    "        #     f\"URL: {item.get('href')}, Website Name: {item.text}, Add Date: {item.get('add_date')}, Folder name: {folder_name}\"\n",
    "        # )\n",
    "        # html_bookmarks.append(item)\n",
    "\n",
    "        # display(f\"Bookmark dict: {item.__dict__}\")\n",
    "\n",
    "        # display(f\"Bookmark attrs: {item.attrs}\")\n",
    "\n",
    "        bookmark_dict = {\n",
    "            \"href\": None,\n",
    "            \"add_date\": None,\n",
    "            \"icon\": None,\n",
    "            \"description\": None,\n",
    "            \"url\": None,\n",
    "            \"name\": None,\n",
    "            \"folder\": None,\n",
    "            \"bs4_tag\": item,\n",
    "        }\n",
    "\n",
    "        for k in item.attrs.keys():\n",
    "            attrs_dict = item.attrs\n",
    "\n",
    "            if not k in item.attrs.keys():\n",
    "                bookmark_dict[k] = None\n",
    "\n",
    "            else:\n",
    "                bookmark_dict[k] = item.attrs[k]\n",
    "\n",
    "        bookmark_dict[\"url\"] = item.get(\"href\")\n",
    "        bookmark_dict[\"name\"] = item.text\n",
    "        bookmark_dict[\"folder\"] = folder_name\n",
    "\n",
    "        # display(f\"Bookmark dict: {bookmark_dict}\")\n",
    "\n",
    "        if USE_PYDANTIC:\n",
    "            bookmark: Bookmark = Bookmark.parse_obj(bookmark_dict)\n",
    "\n",
    "        if USE_DATACLASS:\n",
    "            bookmark: Bookmark = Bookmark(**bookmark_dict)\n",
    "\n",
    "        # display(f\"Bookmark class: {bookmark}\")\n",
    "\n",
    "        html_bookmarks.append(bookmark)"
   ]
  },
  {
   "cell_type": "code",
   "execution_count": null,
   "metadata": {},
   "outputs": [],
   "source": [
    "display(f\"Bookmark folders: {len(html_folders)}\")\n",
    "display(f\"Bookmarks: {len(html_bookmarks)}\")"
   ]
  },
  {
   "cell_type": "code",
   "execution_count": null,
   "metadata": {},
   "outputs": [],
   "source": [
    "## Grab a random bookmark folder\n",
    "folder_index = random.randint(0, len(html_folders) - 1)\n",
    "display(f\"Sampling bookmark folder at index [{folder_index}]\")\n",
    "\n",
    "_sample_bookmark_folder: BookmarkFolder = html_folders[folder_index]\n",
    "display(f\"Sample bookmark folder:\")\n",
    "display(_sample_bookmark_folder)"
   ]
  },
  {
   "cell_type": "code",
   "execution_count": null,
   "metadata": {},
   "outputs": [],
   "source": [
    "## Grab a random bookmark\n",
    "bookmark_index = random.randint(0, len(html_bookmarks) - 1)\n",
    "display(f\"Sampling bokmark at index [{bookmark_index}]\")\n",
    "\n",
    "_sample_bookmark: Bookmark = html_bookmarks[bookmark_index]\n",
    "display(f\"Sample bookmark:\")\n",
    "display(_sample_bookmark)"
   ]
  },
  {
   "attachments": {},
   "cell_type": "markdown",
   "metadata": {},
   "source": [
    "## Examples"
   ]
  },
  {
   "cell_type": "code",
   "execution_count": null,
   "metadata": {},
   "outputs": [],
   "source": []
  }
 ],
 "metadata": {
  "kernelspec": {
   "display_name": ".venv",
   "language": "python",
   "name": "python3"
  },
  "language_info": {
   "codemirror_mode": {
    "name": "ipython",
    "version": 3
   },
   "file_extension": ".py",
   "mimetype": "text/x-python",
   "name": "python",
   "nbconvert_exporter": "python",
   "pygments_lexer": "ipython3",
   "version": "3.10.0"
  },
  "orig_nbformat": 4
 },
 "nbformat": 4,
 "nbformat_minor": 2
}
