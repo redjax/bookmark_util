{
 "cells": [
  {
   "attachments": {},
   "cell_type": "markdown",
   "metadata": {},
   "source": [
    "# Bookmark Utilities\n",
    "[*v0.1*]\n",
    "\n",
    "Prototyping notebook for bookmark scraping utilities."
   ]
  },
  {
   "attachments": {},
   "cell_type": "markdown",
   "metadata": {},
   "source": [
    "# Setup\n",
    "\n",
    "Cells in this section handle notebook setup, like importing packages and functions/vars from scripts."
   ]
  },
  {
   "attachments": {},
   "cell_type": "markdown",
   "metadata": {},
   "source": [
    "## Imports\n",
    "\n",
    "Import `stdlib` packages (i.e. `pathlib.Path`) and package dependencies."
   ]
  },
  {
   "attachments": {},
   "cell_type": "markdown",
   "metadata": {},
   "source": [
    "### stdlib"
   ]
  },
  {
   "cell_type": "code",
   "execution_count": 1,
   "metadata": {},
   "outputs": [],
   "source": [
    "from pathlib import Path\n",
    "import json\n",
    "from typing import Any, Optional, Union\n",
    "from dataclasses import dataclass, field\n",
    "import random"
   ]
  },
  {
   "cell_type": "code",
   "execution_count": 2,
   "metadata": {},
   "outputs": [
    {
     "name": "stdout",
     "output_type": "stream",
     "text": [
      "2023-06-16 16:59:11,322 INFO sqlalchemy.engine.Engine BEGIN (implicit)\n",
      "2023-06-16 16:59:11,323 INFO sqlalchemy.engine.Engine COMMIT\n"
     ]
    }
   ],
   "source": [
    "from core.config import app_settings, logging_settings\n",
    "from utils.logger import get_logger\n",
    "\n",
    "\n",
    "from core.db import Base, get_engine, get_session, create_base_metadata\n",
    "from utils.validators import valid_dir\n",
    "\n",
    "from main import get_files, read_bookmarks"
   ]
  },
  {
   "attachments": {},
   "cell_type": "markdown",
   "metadata": {},
   "source": [
    "### Dependencies\n",
    "\n",
    "Packages installed with `pip` (or some equivalent tool)"
   ]
  },
  {
   "cell_type": "code",
   "execution_count": 3,
   "metadata": {},
   "outputs": [],
   "source": [
    "import bs4\n",
    "from bs4 import BeautifulSoup, Tag, ResultSet, NavigableString, CData\n",
    "\n",
    "from pydantic import BaseModel, validator, ValidationError, Field"
   ]
  },
  {
   "attachments": {},
   "cell_type": "markdown",
   "metadata": {},
   "source": [
    "## Global Vars\n",
    "\n",
    "Variables for use throughout the notebook"
   ]
  },
  {
   "cell_type": "code",
   "execution_count": 4,
   "metadata": {},
   "outputs": [],
   "source": [
    "nb_log: bool = True\n",
    "nb_verbose: bool = False"
   ]
  },
  {
   "cell_type": "code",
   "execution_count": 5,
   "metadata": {},
   "outputs": [],
   "source": [
    "bookmarks_dir: str = \"bookmarks\"\n",
    "bookmarks_file: str = \"bookmarks_6_13_23.html\"\n",
    "bookmarks_file_path: str = f\"{bookmarks_dir}/{bookmarks_file}\""
   ]
  },
  {
   "attachments": {},
   "cell_type": "markdown",
   "metadata": {},
   "source": [
    "## Functions\n",
    "\n",
    "Notebook-level functions. These differ from functions imported from scripts in that they are either prototypes, or functions meant only for the notebook."
   ]
  },
  {
   "attachments": {},
   "cell_type": "markdown",
   "metadata": {},
   "source": [
    "### Notebook Functions"
   ]
  },
  {
   "cell_type": "code",
   "execution_count": null,
   "metadata": {},
   "outputs": [],
   "source": []
  },
  {
   "attachments": {},
   "cell_type": "markdown",
   "metadata": {},
   "source": [
    "### Prototype"
   ]
  },
  {
   "cell_type": "code",
   "execution_count": null,
   "metadata": {},
   "outputs": [],
   "source": []
  },
  {
   "attachments": {},
   "cell_type": "markdown",
   "metadata": {},
   "source": [
    "## Classes\n",
    "\n",
    "Notebook-level classes. These differ from classes/models imported from scripts in that they are either prototypes, or functions meant only for the notebook."
   ]
  },
  {
   "cell_type": "code",
   "execution_count": 6,
   "metadata": {},
   "outputs": [],
   "source": [
    "from domain.schemas.bookmark_schemas import FileObj, BookmarkFolder, Bookmark"
   ]
  },
  {
   "cell_type": "code",
   "execution_count": 7,
   "metadata": {},
   "outputs": [],
   "source": [
    "## Choose between using Dataclasses or Pydantic models for script\n",
    "#  One of the vars must be True. Both vars cannot be True simultaneously.\n",
    "\n",
    "# USE_DATACLASS: bool = False\n",
    "# USE_PYDANTIC: bool = True"
   ]
  },
  {
   "cell_type": "code",
   "execution_count": 8,
   "metadata": {},
   "outputs": [],
   "source": [
    "# if not USE_DATACLASS and not USE_PYDANTIC:\n",
    "#     raise ValueError(f\"USE_DATACLASS or USE_PYDANTIC must be 'True'.\")\n",
    "\n",
    "# if USE_DATACLASS and USE_PYDANTIC:\n",
    "#     raise ValueError(\n",
    "#         f\"USE_DATACLASS and USE_PYDANTIC cannot both be 'True' you must set only 1 to 'True'.\"\n",
    "#     )"
   ]
  },
  {
   "cell_type": "code",
   "execution_count": 9,
   "metadata": {},
   "outputs": [],
   "source": [
    "# if USE_DATACLASS:\n",
    "\n",
    "#     @dataclass\n",
    "#     class FileObj:\n",
    "#         path_obj: Path = field(default=None)\n",
    "#         absolute_path: str = field(default=None)\n",
    "#         type: str = field(default=None)\n",
    "#         name: str = field(default=None)\n",
    "#         # resolve_path: str = field(default=None)\n",
    "#         # posix_path: str = field(default=None)\n",
    "#         # uri: str = field(default=None)\n",
    "#         is_symlink: bool = field(default=False)\n",
    "#         owner: str = field(default=None)\n",
    "#         parents: list[str] = field(default=None)\n",
    "#         parent: str = field(default=None)\n",
    "\n",
    "#         @property\n",
    "#         def path(self) -> str:\n",
    "#             _path: str = str(self.path_obj)\n",
    "\n",
    "#             return _path\n",
    "\n",
    "#         # @property\n",
    "#         # def ext(self) -> Union[str, None]:\n",
    "#         #     if not isinstance(self.)\n",
    "\n",
    "#         @property\n",
    "#         def allowed_types(self) -> list[str]:\n",
    "#             allowed_types = [\"file\", \"dir\"]\n",
    "\n",
    "#             return allowed_types\n",
    "\n",
    "#         def __post_init__(self):\n",
    "#             if not self.type in self.allowed_types:\n",
    "#                 raise ValueError(\n",
    "#                     f\"File object 'type' must be one of {self.allowed_types}\"\n",
    "#                 )"
   ]
  },
  {
   "cell_type": "code",
   "execution_count": 10,
   "metadata": {},
   "outputs": [],
   "source": [
    "# if USE_PYDANTIC:\n",
    "\n",
    "#     class FileObj(BaseModel):\n",
    "#         path_obj: Path = Field(default=None)\n",
    "#         absolute_path: str = Field(default=None)\n",
    "#         type: str = Field(default=None)\n",
    "#         name: str = Field(default=None)\n",
    "#         # resolve_path: str = field(default=None)\n",
    "#         # posix_path: str = field(default=None)\n",
    "#         # uri: str = field(default=None)\n",
    "#         is_symlink: bool = Field(default=False)\n",
    "#         owner: str = Field(default=None)\n",
    "#         parents: list[str] = Field(default=None)\n",
    "#         parent: str = Field(default=None)\n",
    "\n",
    "#         @property\n",
    "#         def path(self) -> str:\n",
    "#             _path: str = str(self.path_obj)\n",
    "\n",
    "#             return _path\n",
    "\n",
    "#         # @property\n",
    "#         # def ext(self) -> Union[str, None]:\n",
    "#         #     if not isinstance(self.)\n",
    "\n",
    "#         @property\n",
    "#         def allowed_types(self) -> list[str]:\n",
    "#             allowed_types = [\"file\", \"dir\"]\n",
    "\n",
    "#             return allowed_types\n",
    "\n",
    "#         @validator(\"type\")\n",
    "#         def valid_type(cls, v) -> str:\n",
    "#             if not v in cls.allowed_types:\n",
    "#                 raise ValidationError(f\"'type' must be one of {cls.allowed_types}\")\n",
    "\n",
    "#             return v"
   ]
  },
  {
   "cell_type": "code",
   "execution_count": 11,
   "metadata": {},
   "outputs": [],
   "source": [
    "# if USE_DATACLASS:\n",
    "\n",
    "#     @dataclass\n",
    "#     class BookmarkFolder:\n",
    "#         name: str = field(default=None)\n",
    "#         add_date: str = field(default=None)\n",
    "#         last_modified: str = field(default=None)\n",
    "#         ## Original bs4.Tag object\n",
    "#         bs4_tag: Tag = field(default=None)"
   ]
  },
  {
   "cell_type": "code",
   "execution_count": 12,
   "metadata": {},
   "outputs": [],
   "source": [
    "# if USE_PYDANTIC:\n",
    "\n",
    "#     class BookmarkFolder(BaseModel):\n",
    "#         name: str = Field(default=None)\n",
    "#         add_date: str = Field(default=None)\n",
    "#         last_modified: str = Field(default=None)\n",
    "#         ## Original bs4.Tag object\n",
    "#         bs4_tag: Tag = Field(default=None)\n",
    "\n",
    "#         class Config:\n",
    "#             arbitrary_types_allowed = True"
   ]
  },
  {
   "cell_type": "code",
   "execution_count": 13,
   "metadata": {},
   "outputs": [],
   "source": [
    "# if USE_DATACLASS:\n",
    "\n",
    "#     @dataclass\n",
    "#     class Bookmark:\n",
    "#         href: str = field(default=None)\n",
    "#         add_date: str = field(default=None)\n",
    "#         icon: str = field(default=None)\n",
    "#         description: str = field(default=None)\n",
    "#         url: str = field(default=None)\n",
    "#         name: str = field(default=None)\n",
    "#         folder: str = field(default=None)\n",
    "#         bs4_tag: Tag = field(default=None)"
   ]
  },
  {
   "cell_type": "code",
   "execution_count": 14,
   "metadata": {},
   "outputs": [],
   "source": [
    "# if USE_PYDANTIC:\n",
    "\n",
    "#     class Bookmark(BaseModel):\n",
    "#         href: str = Field(default=None)\n",
    "#         add_date: str = Field(default=None)\n",
    "#         icon: str = Field(default=None)\n",
    "#         description: str = Field(default=None)\n",
    "#         url: str = Field(default=None)\n",
    "#         name: str = Field(default=None)\n",
    "#         folder: str = Field(default=None)\n",
    "#         bs4_tag: Tag = Field(default=None)\n",
    "\n",
    "#         class Config:\n",
    "#             arbitrary_types_allowed = True"
   ]
  },
  {
   "attachments": {},
   "cell_type": "markdown",
   "metadata": {},
   "source": [
    "# Operations\n",
    "\n",
    "Functions & data operations."
   ]
  },
  {
   "attachments": {},
   "cell_type": "markdown",
   "metadata": {},
   "source": [
    "### Create SQLAlchemy table metadata"
   ]
  },
  {
   "cell_type": "code",
   "execution_count": 15,
   "metadata": {},
   "outputs": [
    {
     "name": "stdout",
     "output_type": "stream",
     "text": [
      "2023-06-16 16:59:11,412 INFO sqlalchemy.engine.Engine BEGIN (implicit)\n",
      "2023-06-16 16:59:11,413 INFO sqlalchemy.engine.Engine COMMIT\n"
     ]
    }
   ],
   "source": [
    "engine = get_engine(connection=\"db/nb_demo.sqlite\", echo=True)\n",
    "create_base_metadata(base_obj=Base, engine=engine)\n",
    "SessionLocal = get_session(engine=engine)"
   ]
  },
  {
   "cell_type": "code",
   "execution_count": 16,
   "metadata": {},
   "outputs": [
    {
     "data": {
      "text/plain": [
       "'Getting files from bookmarks'"
      ]
     },
     "metadata": {},
     "output_type": "display_data"
    },
    {
     "data": {
      "text/plain": [
       "\"Bookmark files: {'dirs': [], 'files': [FileObj(path_obj=PosixPath('bookmarks/bookmarks_6_15_23.html'), absolute_path=PosixPath('/home/jack/git/python/bookmark_util/bookmark_util/bookmarks/bookmarks_6_15_23.html'), type='file', name='bookmarks_6_15_23.html', is_symlink=False, owner='jack', parents=<PosixPath.parents>, parent=PosixPath('bookmarks'))]}\""
      ]
     },
     "metadata": {},
     "output_type": "display_data"
    }
   ],
   "source": [
    "display(f\"Getting files from {bookmarks_dir}\")\n",
    "\n",
    "bookmark_files = get_files(bookmarks_dir)\n",
    "\n",
    "display(f\"Bookmark files: {bookmark_files}\")"
   ]
  },
  {
   "cell_type": "code",
   "execution_count": 17,
   "metadata": {},
   "outputs": [
    {
     "data": {
      "text/plain": [
       "'Pulling sample from bookmark files list. Random index: [0]'"
      ]
     },
     "metadata": {},
     "output_type": "display_data"
    },
    {
     "data": {
      "text/plain": [
       "\"Sample: FileObj(path_obj=PosixPath('bookmarks/bookmarks_6_15_23.html'), absolute_path=PosixPath('/home/jack/git/python/bookmark_util/bookmark_util/bookmarks/bookmarks_6_15_23.html'), type='file', name='bookmarks_6_15_23.html', is_symlink=False, owner='jack', parents=<PosixPath.parents>, parent=PosixPath('bookmarks'))\""
      ]
     },
     "metadata": {},
     "output_type": "display_data"
    }
   ],
   "source": [
    "## Grab a sample bookmark from the list of files\n",
    "bookmark_files_len = len(bookmark_files[\"files\"])\n",
    "sel: int = random.randint(0, bookmark_files_len - 1)\n",
    "\n",
    "display(f\"Pulling sample from bookmark files list. Random index: [{sel}]\")\n",
    "\n",
    "_sample: Path = bookmark_files[\"files\"][sel]\n",
    "\n",
    "display(f\"Sample: {_sample}\")"
   ]
  },
  {
   "cell_type": "code",
   "execution_count": 18,
   "metadata": {},
   "outputs": [],
   "source": [
    "## Read contents of sample bookmark\n",
    "html_contents = read_bookmarks(file=_sample)\n",
    "\n",
    "if nb_verbose:\n",
    "    display(f\"Bookmark file contents:\")\n",
    "    display(html_contents)"
   ]
  },
  {
   "cell_type": "code",
   "execution_count": 19,
   "metadata": {},
   "outputs": [],
   "source": [
    "## Create BeautifulSoup from html_contents\n",
    "soup = BeautifulSoup(html_contents, \"lxml\")\n",
    "\n",
    "## Get all <dt> tags\n",
    "_dt: ResultSet = soup.find_all(\"dt\")\n",
    "\n",
    "if nb_verbose:\n",
    "    display(f\"All <dt> tags:\")\n",
    "    display(_dt)"
   ]
  },
  {
   "cell_type": "code",
   "execution_count": 20,
   "metadata": {},
   "outputs": [],
   "source": [
    "## Initialize empty lists to store bookmark folders and links\n",
    "html_folders: list[BookmarkFolder] = []\n",
    "html_bookmarks: list[Bookmark] = []"
   ]
  },
  {
   "cell_type": "code",
   "execution_count": 21,
   "metadata": {},
   "outputs": [],
   "source": [
    "## Loop over results from <dt> tag search\n",
    "for line in _dt:\n",
    "    # if nb_log:\n",
    "    #     display(f\"line: {line}\")\n",
    "\n",
    "    item: Tag = line.find_next()\n",
    "    # if nb_verbose:\n",
    "    #     display(f\"Item: {item}\")\n",
    "\n",
    "    if item.name == \"h3\":\n",
    "        # for k in item.attrs.keys():\n",
    "        #     display(f\"Attribute key [{k}] ({type(item.attrs[k])}): {item.attrs[k]}\")\n",
    "\n",
    "        folder_name = item.text\n",
    "\n",
    "        folder_dict = {\n",
    "            \"name\": folder_name,\n",
    "            \"add_date\": item.attrs[\"add_date\"],\n",
    "            \"last_modified\": item.attrs[\"last_modified\"],\n",
    "            \"bs4_tag\": item,\n",
    "        }\n",
    "\n",
    "        # if USE_PYDANTIC:\n",
    "        _folder = BookmarkFolder.parse_obj(folder_dict)\n",
    "\n",
    "        # if USE_DATACLASS:\n",
    "        # _folder = BookmarkFolder(**folder_dict)\n",
    "\n",
    "        html_folders.append(_folder)\n",
    "\n",
    "        continue\n",
    "\n",
    "    else:\n",
    "        # log.debug(\n",
    "        #     f\"URL: {item.get('href')}, Website Name: {item.text}, Add Date: {item.get('add_date')}, Folder name: {folder_name}\"\n",
    "        # )\n",
    "        # html_bookmarks.append(item)\n",
    "\n",
    "        # display(f\"Bookmark dict: {item.__dict__}\")\n",
    "\n",
    "        # display(f\"Bookmark attrs: {item.attrs}\")\n",
    "\n",
    "        bookmark_dict = {\n",
    "            \"href\": None,\n",
    "            \"add_date\": None,\n",
    "            \"icon\": None,\n",
    "            \"description\": None,\n",
    "            \"url\": None,\n",
    "            \"name\": None,\n",
    "            \"folder\": None,\n",
    "            \"bs4_tag\": item,\n",
    "        }\n",
    "\n",
    "        for k in item.attrs.keys():\n",
    "            attrs_dict = item.attrs\n",
    "\n",
    "            if not k in item.attrs.keys():\n",
    "                bookmark_dict[k] = None\n",
    "\n",
    "            else:\n",
    "                bookmark_dict[k] = item.attrs[k]\n",
    "\n",
    "        bookmark_dict[\"url\"] = item.get(\"href\")\n",
    "        bookmark_dict[\"name\"] = item.text\n",
    "        bookmark_dict[\"folder\"] = folder_name\n",
    "\n",
    "        # display(f\"Bookmark dict: {bookmark_dict}\")\n",
    "\n",
    "        # if USE_PYDANTIC:\n",
    "        bookmark: Bookmark = Bookmark.parse_obj(bookmark_dict)\n",
    "\n",
    "        # if USE_DATACLASS:\n",
    "        #     bookmark: Bookmark = Bookmark(**bookmark_dict)\n",
    "\n",
    "        # display(f\"Bookmark class: {bookmark}\")\n",
    "\n",
    "        html_bookmarks.append(bookmark)"
   ]
  },
  {
   "cell_type": "code",
   "execution_count": 22,
   "metadata": {},
   "outputs": [
    {
     "data": {
      "text/plain": [
       "'Bookmark folders: 36'"
      ]
     },
     "metadata": {},
     "output_type": "display_data"
    },
    {
     "data": {
      "text/plain": [
       "'Bookmarks: 232'"
      ]
     },
     "metadata": {},
     "output_type": "display_data"
    }
   ],
   "source": [
    "display(f\"Bookmark folders: {len(html_folders)}\")\n",
    "display(f\"Bookmarks: {len(html_bookmarks)}\")"
   ]
  },
  {
   "cell_type": "code",
   "execution_count": 23,
   "metadata": {},
   "outputs": [
    {
     "data": {
      "text/plain": [
       "'Sampling bookmark folder at index [7]'"
      ]
     },
     "metadata": {},
     "output_type": "display_data"
    },
    {
     "data": {
      "text/plain": [
       "'Sample bookmark folder:'"
      ]
     },
     "metadata": {},
     "output_type": "display_data"
    },
    {
     "data": {
      "text/plain": [
       "BookmarkFolder(name='Test', add_date='1610037804', last_modified='1610037804', bs4_tag=<h3 add_date=\"1610037804\" last_modified=\"1610037804\">Test</h3>)"
      ]
     },
     "metadata": {},
     "output_type": "display_data"
    }
   ],
   "source": [
    "## Grab a random bookmark folder\n",
    "folder_index = random.randint(0, len(html_folders) - 1)\n",
    "display(f\"Sampling bookmark folder at index [{folder_index}]\")\n",
    "\n",
    "_sample_bookmark_folder: BookmarkFolder = html_folders[folder_index]\n",
    "display(f\"Sample bookmark folder:\")\n",
    "display(_sample_bookmark_folder)"
   ]
  },
  {
   "cell_type": "code",
   "execution_count": 24,
   "metadata": {},
   "outputs": [
    {
     "data": {
      "text/plain": [
       "'Sampling bokmark at index [15]'"
      ]
     },
     "metadata": {},
     "output_type": "display_data"
    },
    {
     "data": {
      "text/plain": [
       "'Sample bookmark:'"
      ]
     },
     "metadata": {},
     "output_type": "display_data"
    },
    {
     "data": {
      "text/plain": [
       "Bookmark(href='https://3cx.embracepetinsurance.com/webclient/#/login', add_date='1588087149', icon='data:image/png;base64,iVBORw0KGgoAAAANSUhEUgAAABAAAAAQCAYAAAAf8/9hAAACOElEQVQ4jXWTPWtUYRCFz5n7sXc3wUTdFCkELWUjGAJiyhTaCOYv2AhKQkwKRUHwtbJSi7iIH41/QAQrtZKAIKjExHQWYqUkJlHMzd69952xuLuYz+nPmecMZ4it01zqHYB/w7h6WtubBcnAYMowFhT5t7SN0Y3pEz8BEIABgPxXGzHR+OtpM9B8g2FIMxhBQd5WVmrHqpHdBQA4x66K2whgBGgDzYXrTHruaCstSAQADTBjlAQ+yy78mhx6BmcCR91hAMCMePwxrBeVV1KpjmmWllEMxiAETVdbitE/E42vgHG3QYfi0IP5RhDEcyD7zBcgQTPzkvSE1kpfLy+vnAPequw2oME5WZ08uaSa32QUCWgGACQDbaUFk9rZev3gFJzbI0J3nAluwerNhReS9JzXLPUkpRsF5jfU88z+BmUU9D35fDTO5RMo/aaqJGhqJlEs5vMve0ToEtwmAAvaGGEYJTDT7sUoNAAw8Pk+BJ1DNhePBOR7BuGg+rYnKGaqkvQG1kpfLk8Mje9N4Mp+CGyWleqgFlkphqmEsVi79aPIZRKg7TZwTuCo9dn5SxLXxsseBARoBAGS8HplbbrxHc7Jnk08fH/xuFTlHSAHtnegN9TN309XJocvdpu4m+DRh0hiNBlW+s3n2hGrxEmoWbpU5LgKgHDUMuaO7QNFdI1JbUyz8hthMEpIqE99kV1enxle7zwithh00B8unUIQ3bCi7csb0oxmDEPxWXZvbWpkDs5J+Vzl/AOdmB0le+wTTAAAAABJRU5ErkJggg==', description=None, url='https://3cx.embracepetinsurance.com/webclient/#/login', name='3CX Webclient', folder='Production', bs4_tag=<a add_date=\"1588087149\" href=\"https://3cx.embracepetinsurance.com/webclient/#/login\" icon=\"data:image/png;base64,iVBORw0KGgoAAAANSUhEUgAAABAAAAAQCAYAAAAf8/9hAAACOElEQVQ4jXWTPWtUYRCFz5n7sXc3wUTdFCkELWUjGAJiyhTaCOYv2AhKQkwKRUHwtbJSi7iIH41/QAQrtZKAIKjExHQWYqUkJlHMzd69952xuLuYz+nPmecMZ4it01zqHYB/w7h6WtubBcnAYMowFhT5t7SN0Y3pEz8BEIABgPxXGzHR+OtpM9B8g2FIMxhBQd5WVmrHqpHdBQA4x66K2whgBGgDzYXrTHruaCstSAQADTBjlAQ+yy78mhx6BmcCR91hAMCMePwxrBeVV1KpjmmWllEMxiAETVdbitE/E42vgHG3QYfi0IP5RhDEcyD7zBcgQTPzkvSE1kpfLy+vnAPequw2oME5WZ08uaSa32QUCWgGACQDbaUFk9rZev3gFJzbI0J3nAluwerNhReS9JzXLPUkpRsF5jfU88z+BmUU9D35fDTO5RMo/aaqJGhqJlEs5vMve0ToEtwmAAvaGGEYJTDT7sUoNAAw8Pk+BJ1DNhePBOR7BuGg+rYnKGaqkvQG1kpfLk8Mje9N4Mp+CGyWleqgFlkphqmEsVi79aPIZRKg7TZwTuCo9dn5SxLXxsseBARoBAGS8HplbbrxHc7Jnk08fH/xuFTlHSAHtnegN9TN309XJocvdpu4m+DRh0hiNBlW+s3n2hGrxEmoWbpU5LgKgHDUMuaO7QNFdI1JbUyz8hthMEpIqE99kV1enxle7zwithh00B8unUIQ3bCi7csb0oxmDEPxWXZvbWpkDs5J+Vzl/AOdmB0le+wTTAAAAABJRU5ErkJggg==\">3CX Webclient</a>)"
      ]
     },
     "metadata": {},
     "output_type": "display_data"
    },
    {
     "data": {
      "text/plain": [
       "'Bookmark fields:'"
      ]
     },
     "metadata": {},
     "output_type": "display_data"
    },
    {
     "data": {
      "text/plain": [
       "{'href': ModelField(name='href', type=Optional[str], required=False, default=None),\n",
       " 'add_date': ModelField(name='add_date', type=Optional[str], required=False, default=None),\n",
       " 'icon': ModelField(name='icon', type=Optional[str], required=False, default=None),\n",
       " 'description': ModelField(name='description', type=Optional[str], required=False, default=None),\n",
       " 'url': ModelField(name='url', type=Optional[str], required=False, default=None),\n",
       " 'name': ModelField(name='name', type=Optional[str], required=False, default=None),\n",
       " 'folder': ModelField(name='folder', type=Optional[str], required=False, default=None),\n",
       " 'bs4_tag': ModelField(name='bs4_tag', type=Optional[Tag], required=False, default=None)}"
      ]
     },
     "metadata": {},
     "output_type": "display_data"
    }
   ],
   "source": [
    "## Grab a random bookmark\n",
    "bookmark_index = random.randint(0, len(html_bookmarks) - 1)\n",
    "display(f\"Sampling bokmark at index [{bookmark_index}]\")\n",
    "\n",
    "_sample_bookmark: Bookmark = html_bookmarks[bookmark_index]\n",
    "display(f\"Sample bookmark:\")\n",
    "display(_sample_bookmark)\n",
    "\n",
    "display(f\"Bookmark fields:\")\n",
    "display(_sample_bookmark.__fields__)"
   ]
  },
  {
   "cell_type": "code",
   "execution_count": 25,
   "metadata": {},
   "outputs": [],
   "source": [
    "# display(f\"BS4 tag ({type(_sample_bookmark.bs4_tag.__dict__)}): {_sample_bookmark.bs4_tag.__dict__}\")\n",
    "\n",
    "bs4_dict = _sample_bookmark.bs4_tag.__dict__\n",
    "\n",
    "# for k in bs4_dict.keys():\n",
    "#     display(f\"Key: {k}\")\n",
    "#     display(f\"Value Type: {type(bs4_dict[k])}\")\n",
    "#     display(f\"Value: {bs4_dict[k]}\")\n",
    "\n",
    "bs4_name: str | None = bs4_dict[\"name\"]\n",
    "namespace: str | None = bs4_dict[\"namespace\"]\n",
    "namespaces: dict | None = bs4_dict[\"_namespaces\"]\n",
    "prefix: str | None = bs4_dict[\"prefix\"]\n",
    "known_xml: bool | None = bs4_dict[\"known_xml\"]\n",
    "attrs: dict | None = bs4_dict[\"attrs\"]\n",
    "contents: list[str] | None = bs4_dict[\"contents\"]\n",
    "parent: Tag = bs4_dict[\"parent\"]\n",
    "previous_element: Tag = bs4_dict[\"previous_element\"]\n",
    "next_element: bs4.NavigableString = bs4_dict[\"next_element\"]\n",
    "next_sibling: bs4.NavigableString = bs4_dict[\"next_sibling\"]\n",
    "previous_sibling: NavigableString = bs4_dict[\"previous_sibling\"]\n",
    "hidden: bool = bs4_dict[\"hidden\"]\n",
    "can_be_empty_element: bool = bs4_dict[\"can_be_empty_element\"]\n",
    "cdata_list_attributes: dict = bs4_dict[\"cdata_list_attributes\"]\n",
    "preserve_whitespace_tags: set = bs4_dict[\"preserve_whitespace_tags\"]\n",
    "interesting_string_types: tuple[bs4.NavigableString, CData] = bs4_dict[\n",
    "    \"interesting_string_types\"\n",
    "]"
   ]
  },
  {
   "attachments": {},
   "cell_type": "markdown",
   "metadata": {},
   "source": [
    "## Examples"
   ]
  },
  {
   "cell_type": "code",
   "execution_count": null,
   "metadata": {},
   "outputs": [],
   "source": []
  }
 ],
 "metadata": {
  "kernelspec": {
   "display_name": ".venv",
   "language": "python",
   "name": "python3"
  },
  "language_info": {
   "codemirror_mode": {
    "name": "ipython",
    "version": 3
   },
   "file_extension": ".py",
   "mimetype": "text/x-python",
   "name": "python",
   "nbconvert_exporter": "python",
   "pygments_lexer": "ipython3",
   "version": "3.10.0"
  },
  "orig_nbformat": 4
 },
 "nbformat": 4,
 "nbformat_minor": 2
}
